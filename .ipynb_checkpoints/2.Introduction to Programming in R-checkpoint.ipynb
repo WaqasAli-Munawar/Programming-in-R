{
 "cells": [
  {
   "cell_type": "markdown",
   "metadata": {},
   "source": [
    "Data science is one of the most exciting and fastest-growing fields out there. Data scientists bring value to all kinds of businesses and organizations, and we can thank data science for many of the technologies that make our lives easier, like web search engines and smartphone personal assistants.\n",
    "\n",
    "In this file, we'll begin our data science journey by introducing to the basics of programming in R."
   ]
  },
  {
   "cell_type": "markdown",
   "metadata": {},
   "source": [
    "Data scientists extract information from data and use it to create valuable predictions, visualizations, and technologies. To learn from data, we often need to perform billions of computations over large data sets. We do this with the aid of computers, which need to be given a set of instructions. We refer to writing these instructions as **programming**.\n",
    "\n",
    "There are a variety of **computer languages** that we can use for programming. We'll focus on learning [R](https://www.r-project.org/about.html), a language that offers excellent support for data science work.\n",
    "\n",
    "Let's get started by instructing the computer to perform a computation: 125 - 3. We'll need to write the instruction 125 - 3 and then click the Run Code button. The computer will follow our instructions, and will return 122, the difference between 125 and 3, as the result."
   ]
  },
  {
   "cell_type": "markdown",
   "metadata": {},
   "source": [
    "The instructions we write using a `computer language` are called **code**. The code we write to instruct the computer to perform a task is referred to as a **program**. In the example above, we wrote a program, consisting of one line of code, to instruct the computer to calculate the difference between 125 and 3."
   ]
  },
  {
   "cell_type": "markdown",
   "metadata": {},
   "source": [
    "Above, we wrote a one-line program to perform a computation. In that instance, the code 125 - 3 was **input** to the computer, which performed the calculation. The result of that calculation, which was displayed after we clicked Run Code, is called **output**.\n",
    "\n",
    "In R, we can perform computations using some common arithmetic operators, including:\n",
    "\n",
    "* Addition (+)\n",
    "* Subtraction (-)\n",
    "* Multiplication (*)\n",
    "* Division (/)"
   ]
  },
  {
   "cell_type": "markdown",
   "metadata": {},
   "source": [
    "Like other languages, computer languages have **syntax** rules that govern the arrangement of symbols, words, and phrases. In R, expressions are evaluated one line at a time following the [order of operations](https://en.wikipedia.org/wiki/Order_of_operations) rules of mathematics."
   ]
  },
  {
   "cell_type": "markdown",
   "metadata": {},
   "source": [
    "What if we want to calculate our final grade in math class? If **exam, project, and homework** grades are given equal weight, we can write R code to instruct the computer to perform the computation:\n",
    "\n",
    "**(92 + 87 + 85) / 3**\n",
    "\n",
    "Remember that R follows the order of operations, and so the expression within parentheses is evaluated first.\n",
    "\n",
    "To make it easier for others (including our future selves) to understand our code, we can add notes to it using comments. Code comments follow the # symbol, and the R interpreter does not evaluate them:\n",
    "\n",
    "**(92 + 87 + 85) / 3** # math final grade calculation"
   ]
  },
  {
   "cell_type": "markdown",
   "metadata": {},
   "source": [
    "# Variables\n",
    "\n",
    "As our programming tasks become more complex, however, assigning values to **variables** will improve our workflow. Using variables allows us to store values in computer memory with an associated name that we can use to access the values. For example, let's say we have a variable named `human_population` that stores the value 7,000,000,000. When we type `human_population` into the code editor, the computer accesses the value stored in the variable and returns it"
   ]
  },
  {
   "cell_type": "markdown",
   "metadata": {},
   "source": [
    "Creating a variable requires two steps:\n",
    "\n",
    "1. Create the variable name\n",
    "2. Assign values to the variable name using the assignment operator `<-`\n",
    "\n",
    "If we want to assign the final grade for the math class to a variable called `math`, we would write:\n",
    "\n",
    "**math <- 88**\n",
    "\n",
    "If we type math, the output will consist of the value we assigned to the `math` variable:\n",
    "\n",
    "**[1] 88**\n",
    "\n",
    "We can also assign expressions to variables:\n",
    "\n",
    "**math <- (92 + 87 + 85)/3**"
   ]
  },
  {
   "cell_type": "markdown",
   "metadata": {},
   "source": [
    "When naming variables in R, there are some rules to follow:\n",
    "\n",
    "* Variable names consists of letters, numbers, a dot, or an underscore.\n",
    "* We can begin a variable name with a letter or a dot, but dots cannot be followed by a number.\n",
    "* We cannot begin a variable name with a number.\n",
    "* No special characters are allowed."
   ]
  },
  {
   "attachments": {
    "image.png": {
     "image/png": "[encoded data removed]"
    }
   },
   "cell_type": "markdown",
   "metadata": {},
   "source": [
    "Here's a table showing examples of valid and invalid variable names:\n",
    "\n",
    "![image.png](attachment:image.png)"
   ]
  },
  {
   "cell_type": "markdown",
   "metadata": {},
   "source": [
    "When we perform calculations using variables, order of operations rules still apply. For example, if we want to instruct the computer to compute the average of the math and chemistry grades, we can write an expression using the math and chemistry variables:\n",
    "\n",
    "**(math + chemistry) / 2**\n",
    "\n",
    "We can also store the output of expressions in variables. To store the average of math and chemistry in a variable called average, we would use the following syntax:\n",
    "\n",
    "**average <- (math + chemistry) / 2**"
   ]
  },
  {
   "cell_type": "markdown",
   "metadata": {},
   "source": [
    "# Vectors"
   ]
  },
  {
   "cell_type": "markdown",
   "metadata": {},
   "source": [
    "Variable worked well enough for the small data set we're analyzing, but will not scale well as we begin to work with more data. To prepare to work with larger data sets, we'll work with storage objects that can hold multiple values: **vectors**."
   ]
  },
  {
   "attachments": {
    "image.png": {
     "image/png": "[encoded data removed]"
    }
   },
   "cell_type": "markdown",
   "metadata": {},
   "source": [
    "In R, vectors contain a sequence of values that can be assigned to a single variable. For example, we could create a vector, math_chem, that contains the math and chemistry final grades:\n",
    "\n",
    "![image.png](attachment:image.png)\n",
    "\n",
    "Storing values in vectors allows us to peform operations on all of them at once."
   ]
  },
  {
   "attachments": {
    "image.png": {
     "image/png": "[encoded data removed]"
    }
   },
   "cell_type": "markdown",
   "metadata": {},
   "source": [
    "To create a vector, we will use use `c()`, which stands for **\"concatenate.\"**\n",
    "\n",
    "This is the first function we'll work with. Like mathematical [functions](https://en.wikipedia.org/wiki/Function_%28mathematics%29), a function in computer programming takes in inputs and returns an output or an action.\n",
    "\n",
    "![image.png](attachment:image.png)\n",
    "\n",
    "The `c()` function takes multiple values as input and stores these values in one variable"
   ]
  },
  {
   "cell_type": "markdown",
   "metadata": {},
   "source": [
    "We can also create a vector by referring to variable names:\n",
    "\n",
    "**math_chem <- c(math, chemistry)**\n",
    "\n",
    "Remember that R has syntax rules that we need to follow in order for the computer to perform our instructions. If we try to store a sequence of values without the c() function:\n",
    "\n",
    "**math_chem <- 88, 87.66667**\n",
    "\n",
    "We will recieve the following error message: Error: unexpected ',' in \"math_chem <- 88,\""
   ]
  },
  {
   "cell_type": "markdown",
   "metadata": {},
   "source": [
    "# R's built-in functions\n",
    "\n",
    "Programming with vectors will allow us to work with large data sets, since we can perform the same operation on all elements of a vector at once.\n",
    "\n",
    "Let's take a look at how working with vectors can improve data analysis efficiency.\n",
    "\n",
    "We will be using one of R's built-in functions: `mean()`. Like the `c()` function, `mean()` takes inputs, performs an action, and returns an output. The input to `mean()` is a vector, and the output is the average of the values contained in the vector. We can write:\n",
    "\n",
    "**mean(math_chem)**\n",
    "\n",
    "The output from calling the `mean()` function on the **math_chem vector**s the average of the math and chemistry grades stored in the vector:"
   ]
  },
  {
   "cell_type": "markdown",
   "metadata": {},
   "source": [
    "Some additional built-in R functions that we can use;\n",
    "\n",
    "* min(): Takes a vector as input, output is the smallest value in the vector.\n",
    "* max(): Takes a vector as input, output is the largest value in the vector.\n",
    "* length(): Takes a vector as input, output is the total number of values in the vector.\n",
    "* sum(): Takes a vector as input, output is the sum of all values in the vector"
   ]
  },
  {
   "cell_type": "code",
   "execution_count": null,
   "metadata": {},
   "outputs": [],
   "source": []
  }
 ],
 "metadata": {
  "kernelspec": {
   "display_name": "Python 3",
   "language": "python",
   "name": "python3"
  },
  "language_info": {
   "codemirror_mode": {
    "name": "ipython",
    "version": 3
   },
   "file_extension": ".py",
   "mimetype": "text/x-python",
   "name": "python",
   "nbconvert_exporter": "python",
   "pygments_lexer": "ipython3",
   "version": "3.7.6"
  }
 },
 "nbformat": 4,
 "nbformat_minor": 2
}
